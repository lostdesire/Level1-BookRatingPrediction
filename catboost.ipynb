{
 "cells": [
  {
   "cell_type": "code",
   "execution_count": 11,
   "metadata": {},
   "outputs": [],
   "source": [
    "%pip install catboost"
   ]
  },
  {
   "cell_type": "code",
   "execution_count": 12,
   "metadata": {},
   "outputs": [],
   "source": [
    "import numpy as np\n",
    "import pandas as pd\n",
    "import torch.nn as nn\n",
    "import matplotlib.pyplot as plt\n",
    "\n",
    "from sklearn.model_selection import train_test_split\n",
    "from sklearn.metrics import mean_squared_error\n",
    "from sklearn.model_selection import StratifiedKFold\n",
    "\n",
    "from catboost import CatBoostRegressor\n",
    "\n",
    "import random\n",
    "import os\n",
    "import re\n",
    "import warnings\n",
    "import tqdm\n",
    "\n",
    "import wandb\n",
    "\n",
    "warnings.filterwarnings(\"ignore\")"
   ]
  },
  {
   "cell_type": "markdown",
   "metadata": {},
   "source": [
    "## Set SEED"
   ]
  },
  {
   "cell_type": "code",
   "execution_count": 13,
   "metadata": {},
   "outputs": [],
   "source": [
    "SEED = 42\n",
    "\n",
    "\n",
    "def seed_everything(seed: int = 42):\n",
    "    random.seed(seed)\n",
    "    np.random.seed(seed)\n",
    "    os.environ[\"PYTHONHASHSEED\"] = str(seed)\n",
    "\n",
    "\n",
    "seed_everything(SEED)"
   ]
  },
  {
   "cell_type": "markdown",
   "metadata": {},
   "source": [
    "## Preprocessing"
   ]
  },
  {
   "cell_type": "code",
   "execution_count": 14,
   "metadata": {},
   "outputs": [],
   "source": [
    "def age_map(x: int) -> int:\n",
    "    x = int(x)\n",
    "    if x < 20:\n",
    "        return 1\n",
    "    elif x >= 20 and x < 30:\n",
    "        return 2\n",
    "    elif x >= 30 and x < 40:\n",
    "        return 3\n",
    "    elif x >= 40 and x < 50:\n",
    "        return 4\n",
    "    elif x >= 50 and x < 60:\n",
    "        return 5\n",
    "    else:\n",
    "        return 6\n",
    "\n",
    "\n",
    "def fillna_location(df):\n",
    "    # location_city 컬럼의 결측치를 처리 -> 전체 최빈값\n",
    "    df['location_state'].replace(' ', np.nan, inplace=True)\n",
    "    mode_city = df[\"location_city\"].mode()[0]\n",
    "    df[\"location_city\"].fillna(mode_city, inplace=True)\n",
    "\n",
    "    # location_state 컬럼의 결측치를 처리\n",
    "    # 먼저, 각 도시별 가장 빈번한 주를 계산\n",
    "    state_by_city = df.groupby(\"location_city\")[\"location_state\"].apply(\n",
    "        lambda x: x.mode()[0] if not x.mode().empty else \"Unknown\"\n",
    "    )\n",
    "    # 그리고 이 정보를 사용하여 결측치를 채움\n",
    "    df[\"location_state\"] = df.apply(\n",
    "        lambda row: state_by_city[row[\"location_city\"]]\n",
    "        if pd.isnull(row[\"location_state\"])\n",
    "        else row[\"location_state\"],\n",
    "        axis=1,\n",
    "    )\n",
    "\n",
    "    # location_country 컬럼의 결측치를 처리\n",
    "    # 먼저, 각 주별 가장 빈번한 국가를 계산\n",
    "    country_by_state = df.groupby(\"location_state\")[\"location_country\"].apply(\n",
    "        lambda x: x.mode()[0] if not x.mode().empty else \"Unknown\"\n",
    "    )\n",
    "    # 그리고 이 정보를 사용하여 결측치를 채움\n",
    "    df[\"location_country\"] = df.apply(\n",
    "        lambda row: country_by_state[row[\"location_state\"]]\n",
    "        if pd.isnull(row[\"location_country\"])\n",
    "        else row[\"location_country\"],\n",
    "        axis=1,\n",
    "    )\n",
    "    return df\n",
    "\n",
    "\n",
    "def convert_ISBN10_to_ISBN13(isbn10_series):\n",
    "    def calculate_check_digit(isbn):\n",
    "        # ISBN-13의 체크 디지트를 계산하는 함수\n",
    "        isbn = \"978\" + isbn[:-1]  # ISBN-13으로 확장하기 위해 앞에 '978' 추가\n",
    "        check = sum(\n",
    "            (3 if i % 2 == 0 else 1) * int(digit) for i, digit in enumerate(isbn)\n",
    "        )  # 체크 디지트 계산\n",
    "        check_digit = (10 - (check % 10)) % 10  # 10의 배수로 만들기 위해 나머지 계산\n",
    "        return str(check_digit)\n",
    "\n",
    "    # ISBN-10을 ISBN-13으로 변환하는 함수\n",
    "\n",
    "    if len(isbn10_series) != 10 or not isbn10_series[:-1].isdigit():\n",
    "        return \"0000000000\"\n",
    "    else:\n",
    "        return \"978\" + isbn10_series[:-1] + calculate_check_digit(isbn10_series)\n",
    "\n",
    "\n",
    "def get_language_from_isbn13(isbn13):\n",
    "    \"\"\"Get the representative language from the ISBN-13 country/region code.\"\"\"\n",
    "    # Extracting the country/region code from the ISBN-13\n",
    "    # ISBN-13 starts with 978 or 979, followed by the country/region code\n",
    "\n",
    "    country_code = int(isbn13[3:5])  # Using first two digits of the country/region code\n",
    "\n",
    "    # Mapping of country/region code to representative language\n",
    "    language_map = {\n",
    "        0: \"en\",\n",
    "        1: \"en\",  # English\n",
    "        2: \"fr\",  # French\n",
    "        3: \"de\",  # German\n",
    "        4: \"ja\",  # Japanese\n",
    "        5: \"ru\",  # Russian\n",
    "        7: \"zh\",  # Chinese\n",
    "        80: \"cs\",\n",
    "        81: \"hi\",\n",
    "        82: \"no\",\n",
    "        83: \"pl\",\n",
    "        84: \"es\",\n",
    "        85: \"pt\",\n",
    "        86: \"sr\",\n",
    "        87: \"da\",\n",
    "        88: \"it\",\n",
    "        89: \"ko\",\n",
    "        90: \"nl\",\n",
    "        91: \"sv\"  # Dutch, Swedish\n",
    "        # ... (other mappings can be added as needed)\n",
    "    }\n",
    "\n",
    "    return language_map.get(country_code, \"en\")\n",
    "\n",
    "\n",
    "def category_integration(books):\n",
    "    \"\"\"\n",
    "    category를 category_high로 병합\n",
    "    \"\"\"\n",
    "    books.loc[books[books[\"category\"].notnull()].index, \"category\"] = books[\n",
    "        books[\"category\"].notnull()\n",
    "    ][\"category\"].apply(lambda x: re.sub(\"[\\W_]+\", \" \", x).strip())\n",
    "    books[\"category\"] = books[\"category\"].str.lower()\n",
    "\n",
    "    categories = [\n",
    "        \"garden\",\n",
    "        \"crafts\",\n",
    "        \"physics\",\n",
    "        \"adventure\",\n",
    "        \"music\",\n",
    "        \"fiction\",\n",
    "        \"nonfiction\",\n",
    "        \"science\",\n",
    "        \"science fiction\",\n",
    "        \"social\",\n",
    "        \"homicide\",\n",
    "        \"sociology\",\n",
    "        \"disease\",\n",
    "        \"religion\",\n",
    "        \"christian\",\n",
    "        \"philosophy\",\n",
    "        \"psycholog\",\n",
    "        \"mathemat\",\n",
    "        \"agricult\",\n",
    "        \"environmental\",\n",
    "        \"business\",\n",
    "        \"poetry\",\n",
    "        \"drama\",\n",
    "        \"literary\",\n",
    "        \"travel\",\n",
    "        \"motion picture\",\n",
    "        \"children\",\n",
    "        \"cook\",\n",
    "        \"literature\",\n",
    "        \"electronic\",\n",
    "        \"humor\",\n",
    "        \"animal\",\n",
    "        \"bird\",\n",
    "        \"photograph\",\n",
    "        \"computer\",\n",
    "        \"house\",\n",
    "        \"ecology\",\n",
    "        \"family\",\n",
    "        \"architect\",\n",
    "        \"camp\",\n",
    "        \"criminal\",\n",
    "        \"language\",\n",
    "        \"india\",\n",
    "    ]\n",
    "\n",
    "    books[\"category\"] = np.where(\n",
    "        books[\"category\"].isna(), np.random.choice(categories), books[\"category\"]\n",
    "    )\n",
    "\n",
    "    books[\"category_high\"] = books[\"category\"].copy()\n",
    "\n",
    "    for category in categories:\n",
    "        books.loc[\n",
    "            books[books[\"category\"].str.contains(category, na=False)].index,\n",
    "            \"category_high\",\n",
    "        ] = category\n",
    "\n",
    "    category_high_df = pd.DataFrame(books[\"category_high\"].value_counts()).reset_index()\n",
    "    category_high_df.columns = [\"category\", \"count\"]\n",
    "\n",
    "    others_list = category_high_df[category_high_df[\"count\"] < 5][\"category\"].values\n",
    "    books.loc[\n",
    "        books[books[\"category_high\"].isin(others_list)].index, \"category_high\"\n",
    "    ] = \"others\"\n",
    "\n",
    "    return books"
   ]
  },
  {
   "cell_type": "markdown",
   "metadata": {},
   "source": [
    "## Data Load"
   ]
  },
  {
   "cell_type": "code",
   "execution_count": 15,
   "metadata": {},
   "outputs": [],
   "source": [
    "path = \"./data/\"\n",
    "users = pd.read_csv(path + \"users.csv\")\n",
    "books = pd.read_csv(path + \"books.csv\")\n",
    "\n",
    "train = pd.read_csv(path + \"train_ratings.csv\")\n",
    "test = pd.read_csv(path + \"test_ratings.csv\")\n",
    "sub = pd.read_csv(path + \"sample_submission.csv\")\n",
    "\n",
    "################################ apply preprocessing ################################\n",
    "users[\"age\"] = users[\"age\"].fillna(int(users[\"age\"].mean()))\n",
    "users[\"age\"] = users[\"age\"].apply(age_map)\n",
    "users[\"location_city\"] = users[\"location\"].apply(lambda x: x.split(\",\")[0])\n",
    "users[\"location_state\"] = users[\"location\"].apply(lambda x: x.split(\",\")[1])\n",
    "users[\"location_country\"] = users[\"location\"].apply(lambda x: x.split(\",\")[2])\n",
    "users = users.drop([\"location\"], axis=1)\n",
    "users = fillna_location(users)\n",
    "books[\"isbn13\"] = books[\"isbn\"].apply(convert_ISBN10_to_ISBN13)\n",
    "books.loc[books[\"language\"].isna(), \"language\"] = books[books[\"language\"].isna()][\n",
    "    \"isbn13\"\n",
    "].apply(get_language_from_isbn13)\n",
    "books = category_integration(books)\n",
    "mode_books = books[\"book_author\"].mode()[0]\n",
    "books[\"book_author\"].fillna(mode_books, inplace=True)\n",
    "books = books.drop(columns=\"isbn13\")\n",
    "books = books.drop(columns=\"summary\")\n",
    "books = books.drop(columns=\"img_url\")\n",
    "books = books.drop(columns=\"img_path\")\n",
    "####################################################################################\n",
    "\n",
    "users_ = users.copy()\n",
    "books_ = books.copy()\n",
    "\n",
    "train = pd.merge(train, users_, on=\"user_id\", how=\"left\")\n",
    "test = pd.merge(test, users_, on=\"user_id\", how=\"left\")\n",
    "sub = pd.merge(sub, users_, on=\"user_id\", how=\"left\")\n",
    "train = pd.merge(train, books_, on=\"isbn\", how=\"left\")\n",
    "test = pd.merge(test, books_, on=\"isbn\", how=\"left\")\n",
    "sub = pd.merge(sub, books_, on=\"isbn\", how=\"left\")\n",
    "\n",
    "train[\"year_of_publication\"] = train[\"year_of_publication\"].astype(int)\n",
    "test[\"year_of_publication\"] = test[\"year_of_publication\"].astype(int)\n",
    "sub[\"year_of_publication\"] = sub[\"year_of_publication\"].astype(int)\n",
    "\n",
    "sub = sub.drop(columns=\"rating\")\n",
    "\n",
    "data = {\n",
    "    \"train\": train,\n",
    "    \"test\": test.drop([\"rating\"], axis=1),\n",
    "    \"users\": users,\n",
    "    \"books\": books,\n",
    "    \"sub\": sub,\n",
    "}"
   ]
  },
  {
   "cell_type": "markdown",
   "metadata": {},
   "source": [
    "## CatBoost Model"
   ]
  },
  {
   "cell_type": "code",
   "execution_count": 16,
   "metadata": {},
   "outputs": [],
   "source": [
    "params = {\n",
    "    \"random_seed\": 42,\n",
    "    \"iterations\": 500,\n",
    "    \"learning_rate\": 1e-3,\n",
    "    \"reg_lambda\": 1e-5,\n",
    "    \"depth\": 5,\n",
    "    \"min_data_in_leaf\": 5,\n",
    "    \"bagging_temperature\": 0.01,\n",
    "}"
   ]
  },
  {
   "cell_type": "code",
   "execution_count": 17,
   "metadata": {},
   "outputs": [],
   "source": [
    "class CatBoost(nn.Module):\n",
    "    def __init__(self, data, n_splits=5, random_seed=42, param=params):\n",
    "        self.data = data\n",
    "        self.cat_features = list(range(0, self.data[\"train\"].shape[1] - 1))\n",
    "        self.n_splits = n_splits\n",
    "        self.random_seed = random_seed\n",
    "        self.param = params\n",
    "\n",
    "        self.X = data[\"train\"].drop([\"rating\"], axis=1).values\n",
    "        self.y = data[\"train\"][\"rating\"].values\n",
    "        self.sub = self.data[\"sub\"]\n",
    "\n",
    "        self.kfold = StratifiedKFold(\n",
    "            n_splits=self.n_splits, shuffle=True, random_state=self.random_seed\n",
    "        )\n",
    "\n",
    "    def train(self):\n",
    "        param = self.param\n",
    "\n",
    "        rmse_scores = []\n",
    "        for train_idx, valid_idx in tqdm.tqdm(\n",
    "            self.kfold.split(self.X, self.y)\n",
    "        ):\n",
    "            X_train_fold, X_valid_fold = (\n",
    "                self.X[train_idx],\n",
    "                self.X[valid_idx],\n",
    "            )\n",
    "            y_train_fold, y_valid_fold = (\n",
    "                self.y[train_idx],\n",
    "                self.y[valid_idx],\n",
    "            )\n",
    "\n",
    "            self.model = CatBoostRegressor(**param, task_type=\"GPU\", devices=\"0\")\n",
    "\n",
    "            self.model.fit(\n",
    "                X_train_fold,\n",
    "                y_train_fold,\n",
    "                cat_features=self.cat_features,\n",
    "                eval_set=(X_valid_fold, y_valid_fold)\n",
    "            )\n",
    "\n",
    "            y_pred_fold = self.model.predict(X_valid_fold)\n",
    "            rmse_fold = mean_squared_error(y_valid_fold, y_pred_fold, squared=False)\n",
    "            wandb.log({\"fold_loss\": rmse_fold})\n",
    "            rmse_scores.append(rmse_fold)\n",
    "        mean_kfold = np.mean(rmse_scores)\n",
    "        wandb.log({\"train_loss\": mean_kfold})\n",
    "\n",
    "        return mean_kfold\n",
    "\n",
    "    def predict(self):\n",
    "        y_pred = self.model.predict(self.sub)\n",
    "        self.sub[\"rating\"] = y_pred\n",
    "\n",
    "    def sample_submission(self, str):\n",
    "        self.sub[[\"user_id\", \"isbn\", \"rating\"]].to_csv(\"./submit/\" + str + \".csv\")\n",
    "\n",
    "    def feature_importance(self):\n",
    "        result = self.model.get_feature_importance()\n",
    "        result = pd.Series(result, index=self.data[\"train\"].drop([\"rating\"], axis=1).columns).sort_values()\n",
    "        plt.figure(figsize=(14, 7))\n",
    "        plt.barh(result.index, result.values)\n",
    "        \n",
    "        plt.title('CatBoost Feature Importance')\n",
    "        plt.xlabel('Importance')\n",
    "        plt.ylabel('Feature')\n",
    "\n",
    "        plt.show()\n",
    "        "
   ]
  },
  {
   "cell_type": "markdown",
   "metadata": {},
   "source": [
    "## Training"
   ]
  },
  {
   "cell_type": "code",
   "execution_count": 21,
   "metadata": {},
   "outputs": [
    {
     "data": {
      "text/html": [
       "Finishing last run (ID:cmcropa3) before initializing another..."
      ],
      "text/plain": [
       "<IPython.core.display.HTML object>"
      ]
     },
     "metadata": {},
     "output_type": "display_data"
    },
    {
     "data": {
      "text/html": [
       "<style>\n",
       "    table.wandb td:nth-child(1) { padding: 0 10px; text-align: left ; width: auto;} td:nth-child(2) {text-align: left ; width: 100%}\n",
       "    .wandb-row { display: flex; flex-direction: row; flex-wrap: wrap; justify-content: flex-start; width: 100% }\n",
       "    .wandb-col { display: flex; flex-direction: column; flex-basis: 100%; flex: 1; padding: 10px; }\n",
       "    </style>\n",
       "<div class=\"wandb-row\"><div class=\"wandb-col\"><h3>Run history:</h3><br/><table class=\"wandb\"><tr><td>fold_loss</td><td>▁</td></tr></table><br/></div><div class=\"wandb-col\"><h3>Run summary:</h3><br/><table class=\"wandb\"><tr><td>fold_loss</td><td>2.1245</td></tr></table><br/></div></div>"
      ],
      "text/plain": [
       "<IPython.core.display.HTML object>"
      ]
     },
     "metadata": {},
     "output_type": "display_data"
    },
    {
     "data": {
      "text/html": [
       " View run <strong style=\"color:#cdcd00\">deft-snowflake-100</strong> at: <a href='https://wandb.ai/kjswon12/level_1_catboost/runs/cmcropa3' target=\"_blank\">https://wandb.ai/kjswon12/level_1_catboost/runs/cmcropa3</a><br/>Synced 6 W&B file(s), 0 media file(s), 0 artifact file(s) and 0 other file(s)"
      ],
      "text/plain": [
       "<IPython.core.display.HTML object>"
      ]
     },
     "metadata": {},
     "output_type": "display_data"
    },
    {
     "data": {
      "text/html": [
       "Find logs at: <code>./wandb/run-20231221_045618-cmcropa3/logs</code>"
      ],
      "text/plain": [
       "<IPython.core.display.HTML object>"
      ]
     },
     "metadata": {},
     "output_type": "display_data"
    },
    {
     "data": {
      "text/html": [
       "Successfully finished last run (ID:cmcropa3). Initializing new run:<br/>"
      ],
      "text/plain": [
       "<IPython.core.display.HTML object>"
      ]
     },
     "metadata": {},
     "output_type": "display_data"
    },
    {
     "data": {
      "text/html": [
       "Tracking run with wandb version 0.16.1"
      ],
      "text/plain": [
       "<IPython.core.display.HTML object>"
      ]
     },
     "metadata": {},
     "output_type": "display_data"
    },
    {
     "data": {
      "text/html": [
       "Run data is saved locally in <code>/data/ephemeral/home/code/wandb/run-20231221_050023-ljfw0tvr</code>"
      ],
      "text/plain": [
       "<IPython.core.display.HTML object>"
      ]
     },
     "metadata": {},
     "output_type": "display_data"
    },
    {
     "data": {
      "text/html": [
       "Syncing run <strong><a href='https://wandb.ai/kjswon12/level_1_catboost/runs/ljfw0tvr' target=\"_blank\">lyric-energy-101</a></strong> to <a href='https://wandb.ai/kjswon12/level_1_catboost' target=\"_blank\">Weights & Biases</a> (<a href='https://wandb.me/run' target=\"_blank\">docs</a>)<br/>"
      ],
      "text/plain": [
       "<IPython.core.display.HTML object>"
      ]
     },
     "metadata": {},
     "output_type": "display_data"
    },
    {
     "data": {
      "text/html": [
       " View project at <a href='https://wandb.ai/kjswon12/level_1_catboost' target=\"_blank\">https://wandb.ai/kjswon12/level_1_catboost</a>"
      ],
      "text/plain": [
       "<IPython.core.display.HTML object>"
      ]
     },
     "metadata": {},
     "output_type": "display_data"
    },
    {
     "data": {
      "text/html": [
       " View run at <a href='https://wandb.ai/kjswon12/level_1_catboost/runs/ljfw0tvr' target=\"_blank\">https://wandb.ai/kjswon12/level_1_catboost/runs/ljfw0tvr</a>"
      ],
      "text/plain": [
       "<IPython.core.display.HTML object>"
      ]
     },
     "metadata": {},
     "output_type": "display_data"
    },
    {
     "name": "stderr",
     "output_type": "stream",
     "text": [
      "0it [00:00, ?it/s]"
     ]
    },
    {
     "name": "stdout",
     "output_type": "stream",
     "text": [
      "0:\tlearn: 2.4195658\ttest: 2.4178740\tbest: 2.4178740 (0)\ttotal: 15.3ms\tremaining: 2m 32s\n",
      "1000:\tlearn: 2.1693849\ttest: 2.1361626\tbest: 2.1361626 (1000)\ttotal: 19s\tremaining: 2m 50s\n",
      "2000:\tlearn: 2.1567746\ttest: 2.1330183\tbest: 2.1330183 (2000)\ttotal: 38.8s\tremaining: 2m 35s\n",
      "3000:\tlearn: 2.1467373\ttest: 2.1316190\tbest: 2.1315990 (2986)\ttotal: 58.7s\tremaining: 2m 16s\n",
      "4000:\tlearn: 2.1376997\ttest: 2.1307047\tbest: 2.1306756 (3979)\ttotal: 1m 19s\tremaining: 1m 59s\n",
      "5000:\tlearn: 2.1298359\ttest: 2.1302655\tbest: 2.1302619 (4999)\ttotal: 1m 39s\tremaining: 1m 39s\n",
      "6000:\tlearn: 2.1224353\ttest: 2.1298817\tbest: 2.1298195 (5885)\ttotal: 2m\tremaining: 1m 20s\n",
      "bestTest = 2.129720962\n",
      "bestIteration = 6537\n",
      "Shrink model to first 6538 iterations.\n"
     ]
    },
    {
     "name": "stderr",
     "output_type": "stream",
     "text": [
      "1it [02:22, 142.86s/it]"
     ]
    },
    {
     "name": "stdout",
     "output_type": "stream",
     "text": [
      "0:\tlearn: 2.4197734\ttest: 2.4178984\tbest: 2.4178984 (0)\ttotal: 20.1ms\tremaining: 3m 21s\n",
      "1000:\tlearn: 2.1685894\ttest: 2.1405593\tbest: 2.1405548 (999)\ttotal: 19.4s\tremaining: 2m 54s\n",
      "2000:\tlearn: 2.1560508\ttest: 2.1376474\tbest: 2.1376336 (1998)\ttotal: 39.7s\tremaining: 2m 38s\n",
      "3000:\tlearn: 2.1456782\ttest: 2.1356654\tbest: 2.1356504 (2985)\ttotal: 1m\tremaining: 2m 20s\n",
      "4000:\tlearn: 2.1368914\ttest: 2.1350346\tbest: 2.1349170 (3862)\ttotal: 1m 20s\tremaining: 2m\n",
      "bestTest = 2.134916991\n",
      "bestIteration = 3862\n",
      "Shrink model to first 3863 iterations.\n"
     ]
    },
    {
     "name": "stderr",
     "output_type": "stream",
     "text": [
      "2it [03:50, 110.29s/it]"
     ]
    },
    {
     "name": "stdout",
     "output_type": "stream",
     "text": [
      "0:\tlearn: 2.4197788\ttest: 2.4176935\tbest: 2.4176935 (0)\ttotal: 18.3ms\tremaining: 3m 2s\n",
      "1000:\tlearn: 2.1683325\ttest: 2.1332720\tbest: 2.1332720 (1000)\ttotal: 20s\tremaining: 3m\n",
      "2000:\tlearn: 2.1560125\ttest: 2.1296135\tbest: 2.1296003 (1987)\ttotal: 40.6s\tremaining: 2m 42s\n",
      "3000:\tlearn: 2.1460111\ttest: 2.1281414\tbest: 2.1281002 (2929)\ttotal: 1m\tremaining: 2m 20s\n",
      "4000:\tlearn: 2.1372143\ttest: 2.1273353\tbest: 2.1273244 (3990)\ttotal: 1m 21s\tremaining: 2m 1s\n",
      "bestTest = 2.126853724\n",
      "bestIteration = 4618\n",
      "Shrink model to first 4619 iterations.\n"
     ]
    },
    {
     "name": "stderr",
     "output_type": "stream",
     "text": [
      "3it [05:33, 106.84s/it]"
     ]
    },
    {
     "name": "stdout",
     "output_type": "stream",
     "text": [
      "0:\tlearn: 2.4193687\ttest: 2.4175364\tbest: 2.4175364 (0)\ttotal: 27.1ms\tremaining: 4m 31s\n",
      "1000:\tlearn: 2.1690551\ttest: 2.1346490\tbest: 2.1346486 (999)\ttotal: 20.9s\tremaining: 3m 7s\n",
      "2000:\tlearn: 2.1567568\ttest: 2.1318960\tbest: 2.1318960 (2000)\ttotal: 41.9s\tremaining: 2m 47s\n",
      "3000:\tlearn: 2.1465571\ttest: 2.1299786\tbest: 2.1299575 (2973)\ttotal: 1m 2s\tremaining: 2m 26s\n",
      "4000:\tlearn: 2.1376462\ttest: 2.1288874\tbest: 2.1288831 (3999)\ttotal: 1m 21s\tremaining: 2m 2s\n",
      "5000:\tlearn: 2.1298281\ttest: 2.1281636\tbest: 2.1281572 (4918)\ttotal: 1m 41s\tremaining: 1m 41s\n",
      "bestTest = 2.12795865\n",
      "bestIteration = 5432\n",
      "Shrink model to first 5433 iterations.\n"
     ]
    },
    {
     "name": "stderr",
     "output_type": "stream",
     "text": [
      "4it [07:33, 112.39s/it]"
     ]
    },
    {
     "name": "stdout",
     "output_type": "stream",
     "text": [
      "0:\tlearn: 2.4198149\ttest: 2.4179423\tbest: 2.4179423 (0)\ttotal: 20.1ms\tremaining: 3m 21s\n",
      "1000:\tlearn: 2.1696591\ttest: 2.1336667\tbest: 2.1336589 (998)\ttotal: 19.3s\tremaining: 2m 53s\n",
      "2000:\tlearn: 2.1565301\ttest: 2.1297886\tbest: 2.1297394 (1983)\ttotal: 38.3s\tremaining: 2m 33s\n",
      "3000:\tlearn: 2.1464367\ttest: 2.1285738\tbest: 2.1284973 (2939)\ttotal: 57.6s\tremaining: 2m 14s\n",
      "bestTest = 2.128479373\n",
      "bestIteration = 3067\n",
      "Shrink model to first 3068 iterations.\n"
     ]
    },
    {
     "name": "stderr",
     "output_type": "stream",
     "text": [
      "5it [08:42, 96.47s/it] "
     ]
    },
    {
     "name": "stdout",
     "output_type": "stream",
     "text": [
      "0:\tlearn: 2.4198764\ttest: 2.4170837\tbest: 2.4170837 (0)\ttotal: 15.8ms\tremaining: 2m 37s\n",
      "1000:\tlearn: 2.1694273\ttest: 2.1271579\tbest: 2.1271579 (1000)\ttotal: 20.1s\tremaining: 3m\n",
      "2000:\tlearn: 2.1566139\ttest: 2.1242756\tbest: 2.1242634 (1997)\ttotal: 40s\tremaining: 2m 39s\n",
      "3000:\tlearn: 2.1468299\ttest: 2.1225121\tbest: 2.1225121 (3000)\ttotal: 59.5s\tremaining: 2m 18s\n",
      "4000:\tlearn: 2.1377416\ttest: 2.1214686\tbest: 2.1214672 (3999)\ttotal: 1m 19s\tremaining: 1m 58s\n",
      "bestTest = 2.12116464\n",
      "bestIteration = 4430\n",
      "Shrink model to first 4431 iterations.\n"
     ]
    },
    {
     "name": "stderr",
     "output_type": "stream",
     "text": [
      "6it [10:19, 96.69s/it]"
     ]
    },
    {
     "name": "stdout",
     "output_type": "stream",
     "text": [
      "0:\tlearn: 2.4198048\ttest: 2.4170440\tbest: 2.4170440 (0)\ttotal: 15.8ms\tremaining: 2m 38s\n",
      "1000:\tlearn: 2.1709147\ttest: 2.1282607\tbest: 2.1282391 (985)\ttotal: 19.6s\tremaining: 2m 56s\n",
      "2000:\tlearn: 2.1582686\ttest: 2.1250084\tbest: 2.1250001 (1997)\ttotal: 38.9s\tremaining: 2m 35s\n",
      "3000:\tlearn: 2.1485199\ttest: 2.1241371\tbest: 2.1240875 (2825)\ttotal: 58.3s\tremaining: 2m 15s\n",
      "4000:\tlearn: 2.1397994\ttest: 2.1234203\tbest: 2.1233742 (3894)\ttotal: 1m 17s\tremaining: 1m 56s\n",
      "bestTest = 2.123013497\n",
      "bestIteration = 4472\n",
      "Shrink model to first 4473 iterations.\n"
     ]
    },
    {
     "name": "stderr",
     "output_type": "stream",
     "text": [
      "7it [11:56, 96.76s/it]"
     ]
    },
    {
     "name": "stdout",
     "output_type": "stream",
     "text": [
      "0:\tlearn: 2.4199279\ttest: 2.4170121\tbest: 2.4170121 (0)\ttotal: 20.1ms\tremaining: 3m 21s\n",
      "1000:\tlearn: 2.1682996\ttest: 2.1279499\tbest: 2.1279499 (1000)\ttotal: 19.6s\tremaining: 2m 56s\n",
      "2000:\tlearn: 2.1558898\ttest: 2.1253447\tbest: 2.1253447 (2000)\ttotal: 39.8s\tremaining: 2m 39s\n",
      "3000:\tlearn: 2.1456435\ttest: 2.1241977\tbest: 2.1241231 (2941)\ttotal: 58.9s\tremaining: 2m 17s\n",
      "4000:\tlearn: 2.1368022\ttest: 2.1236867\tbest: 2.1236520 (3949)\ttotal: 1m 17s\tremaining: 1m 56s\n",
      "bestTest = 2.123652009\n",
      "bestIteration = 3949\n",
      "Shrink model to first 3950 iterations.\n"
     ]
    },
    {
     "name": "stderr",
     "output_type": "stream",
     "text": [
      "8it [13:23, 93.65s/it]"
     ]
    },
    {
     "name": "stdout",
     "output_type": "stream",
     "text": [
      "0:\tlearn: 2.4199954\ttest: 2.4174809\tbest: 2.4174809 (0)\ttotal: 19.6ms\tremaining: 3m 16s\n",
      "1000:\tlearn: 2.1699594\ttest: 2.1305468\tbest: 2.1305468 (1000)\ttotal: 20.1s\tremaining: 3m 1s\n",
      "2000:\tlearn: 2.1573558\ttest: 2.1272379\tbest: 2.1272379 (2000)\ttotal: 40.8s\tremaining: 2m 43s\n",
      "3000:\tlearn: 2.1474956\ttest: 2.1263305\tbest: 2.1263135 (2981)\ttotal: 59.9s\tremaining: 2m 19s\n",
      "4000:\tlearn: 2.1387753\ttest: 2.1260117\tbest: 2.1259834 (3982)\ttotal: 1m 18s\tremaining: 1m 58s\n",
      "5000:\tlearn: 2.1307767\ttest: 2.1254746\tbest: 2.1254746 (5000)\ttotal: 1m 38s\tremaining: 1m 38s\n",
      "6000:\tlearn: 2.1231070\ttest: 2.1251760\tbest: 2.1251424 (5963)\ttotal: 1m 57s\tremaining: 1m 18s\n",
      "bestTest = 2.125033434\n",
      "bestIteration = 6090\n",
      "Shrink model to first 6091 iterations.\n"
     ]
    },
    {
     "name": "stderr",
     "output_type": "stream",
     "text": [
      "9it [15:32, 104.82s/it]"
     ]
    },
    {
     "name": "stdout",
     "output_type": "stream",
     "text": [
      "0:\tlearn: 2.4197158\ttest: 2.4173156\tbest: 2.4173156 (0)\ttotal: 18.5ms\tremaining: 3m 4s\n",
      "1000:\tlearn: 2.1695558\ttest: 2.1303179\tbest: 2.1303179 (1000)\ttotal: 18.8s\tremaining: 2m 48s\n",
      "2000:\tlearn: 2.1571353\ttest: 2.1265076\tbest: 2.1264923 (1988)\ttotal: 38.7s\tremaining: 2m 34s\n",
      "3000:\tlearn: 2.1471674\ttest: 2.1243275\tbest: 2.1243174 (2990)\ttotal: 58.2s\tremaining: 2m 15s\n",
      "4000:\tlearn: 2.1383621\ttest: 2.1230402\tbest: 2.1230362 (3992)\ttotal: 1m 18s\tremaining: 1m 57s\n",
      "5000:\tlearn: 2.1303378\ttest: 2.1223834\tbest: 2.1223372 (4802)\ttotal: 1m 37s\tremaining: 1m 37s\n",
      "6000:\tlearn: 2.1230118\ttest: 2.1219420\tbest: 2.1219420 (6000)\ttotal: 1m 57s\tremaining: 1m 18s\n",
      "bestTest = 2.12169557\n",
      "bestIteration = 6577\n",
      "Shrink model to first 6578 iterations.\n"
     ]
    },
    {
     "name": "stderr",
     "output_type": "stream",
     "text": [
      "10it [17:51, 107.19s/it]\n"
     ]
    },
    {
     "data": {
      "text/html": [
       "<style>\n",
       "    table.wandb td:nth-child(1) { padding: 0 10px; text-align: left ; width: auto;} td:nth-child(2) {text-align: left ; width: 100%}\n",
       "    .wandb-row { display: flex; flex-direction: row; flex-wrap: wrap; justify-content: flex-start; width: 100% }\n",
       "    .wandb-col { display: flex; flex-direction: column; flex-basis: 100%; flex: 1; padding: 10px; }\n",
       "    </style>\n",
       "<div class=\"wandb-row\"><div class=\"wandb-col\"><h3>Run history:</h3><br/><table class=\"wandb\"><tr><td>fold_loss</td><td>▅█▄▄▅▁▂▂▃▁</td></tr><tr><td>train_loss</td><td>▁</td></tr></table><br/></div><div class=\"wandb-col\"><h3>Run summary:</h3><br/><table class=\"wandb\"><tr><td>fold_loss</td><td>2.1217</td></tr><tr><td>train_loss</td><td>2.12625</td></tr></table><br/></div></div>"
      ],
      "text/plain": [
       "<IPython.core.display.HTML object>"
      ]
     },
     "metadata": {},
     "output_type": "display_data"
    },
    {
     "data": {
      "text/html": [
       " View run <strong style=\"color:#cdcd00\">lyric-energy-101</strong> at: <a href='https://wandb.ai/kjswon12/level_1_catboost/runs/ljfw0tvr' target=\"_blank\">https://wandb.ai/kjswon12/level_1_catboost/runs/ljfw0tvr</a><br/>Synced 6 W&B file(s), 0 media file(s), 0 artifact file(s) and 0 other file(s)"
      ],
      "text/plain": [
       "<IPython.core.display.HTML object>"
      ]
     },
     "metadata": {},
     "output_type": "display_data"
    },
    {
     "data": {
      "text/html": [
       "Find logs at: <code>./wandb/run-20231221_050023-ljfw0tvr/logs</code>"
      ],
      "text/plain": [
       "<IPython.core.display.HTML object>"
      ]
     },
     "metadata": {},
     "output_type": "display_data"
    }
   ],
   "source": [
    "############## wandb initialization\n",
    "wandb.init(project=\"level_1_catboost\")\n",
    "\n",
    "####################### WandB start run\n",
    "model_name = \"catboost_seed_24\"\n",
    "wandb.run.name = model_name\n",
    "wandb.run.save()\n",
    "\n",
    "params = {\n",
    "    \"random_seed\": 24,\n",
    "    \"iterations\": 10000,\n",
    "    \"learning_rate\": 5e-2,\n",
    "    \"reg_lambda\": 1e-5,\n",
    "    \"depth\": 5,\n",
    "    \"min_data_in_leaf\": 1,\n",
    "    \"bagging_temperature\": 0.01,\n",
    "    \"early_stopping_rounds\": 250,\n",
    "    \"verbose\": 1000\n",
    "}\n",
    "\n",
    "wandb.config = params\n",
    "\n",
    "catboost = CatBoost(data, 10, 24, params)\n",
    "\n",
    "catboost.train()\n",
    "\n",
    "catboost.predict()\n",
    "\n",
    "wandb.finish()\n",
    "\n",
    "catboost.sample_submission(model_name)"
   ]
  },
  {
   "cell_type": "markdown",
   "metadata": {},
   "source": [
    "## Feature Importance"
   ]
  },
  {
   "cell_type": "code",
   "execution_count": 19,
   "metadata": {},
   "outputs": [
    {
     "data": {
      "image/png": "[encoded data removed]",
      "text/plain": [
       "<Figure size 1400x700 with 1 Axes>"
      ]
     },
     "metadata": {},
     "output_type": "display_data"
    }
   ],
   "source": [
    "catboost.feature_importance()"
   ]
  }
 ],
 "metadata": {
  "kernelspec": {
   "display_name": "level_1",
   "language": "python",
   "name": "level_1"
  },
  "language_info": {
   "codemirror_mode": {
    "name": "ipython",
    "version": 3
   },
   "file_extension": ".py",
   "mimetype": "text/x-python",
   "name": "python",
   "nbconvert_exporter": "python",
   "pygments_lexer": "ipython3",
   "version": "3.8.18"
  }
 },
 "nbformat": 4,
 "nbformat_minor": 2
}
